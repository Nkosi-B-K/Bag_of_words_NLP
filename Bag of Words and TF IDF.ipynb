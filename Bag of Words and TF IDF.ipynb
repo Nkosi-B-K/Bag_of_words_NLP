{
 "cells": [
  {
   "cell_type": "code",
   "execution_count": 1,
   "id": "a0cdba11-8a2d-4c51-8969-ecf3d37fb51d",
   "metadata": {},
   "outputs": [],
   "source": [
    "import pandas as pd\n",
    "from sklearn.feature_extraction.text import CountVectorizer"
   ]
  },
  {
   "cell_type": "code",
   "execution_count": 2,
   "id": "c2103036-47f1-44b7-8e5b-85ed1b1c840d",
   "metadata": {},
   "outputs": [],
   "source": [
    "data = ['The dog barked loudly at the passing cars.',\n",
    "        'A beautiful sunset painted the sky in orange and pink.',\n",
    "        'She baked a delicious cake for the birthday party.',\n",
    "        'The children played games in the backyard all afternoon.',\n",
    "        'He quickly finished his homework before dinner.',\n",
    "        'Traveling to new places is always an exciting adventure.']"
   ]
  },
  {
   "cell_type": "code",
   "execution_count": 3,
   "id": "34409a8d-dc60-4d8e-b401-ae9ee2c887b1",
   "metadata": {},
   "outputs": [],
   "source": [
    "countvec = CountVectorizer()"
   ]
  },
  {
   "cell_type": "code",
   "execution_count": 4,
   "id": "d03433b6-e97b-446d-a6c9-9b5c90f475d2",
   "metadata": {},
   "outputs": [],
   "source": [
    "countvec_fit = countvec.fit_transform(data)"
   ]
  },
  {
   "cell_type": "code",
   "execution_count": 5,
   "id": "6913f416-329e-40cc-bb7a-5ec1833e0b14",
   "metadata": {},
   "outputs": [],
   "source": [
    "bag_of_words = pd.DataFrame(countvec_fit.toarray(), columns = countvec.get_feature_names_out())"
   ]
  },
  {
   "cell_type": "code",
   "execution_count": 6,
   "id": "d70dd770-ddc8-4816-b936-50b700e8cb07",
   "metadata": {},
   "outputs": [
    {
     "name": "stdout",
     "output_type": "stream",
     "text": [
      "   adventure  afternoon  all  always  an  and  at  backyard  baked  barked  \\\n",
      "0          0          0    0       0   0    0   1         0      0       1   \n",
      "1          0          0    0       0   0    1   0         0      0       0   \n",
      "2          0          0    0       0   0    0   0         0      1       0   \n",
      "3          0          1    1       0   0    0   0         1      0       0   \n",
      "4          0          0    0       0   0    0   0         0      0       0   \n",
      "5          1          0    0       1   1    0   0         0      0       0   \n",
      "\n",
      "   ...  pink  places  played  quickly  she  sky  sunset  the  to  traveling  \n",
      "0  ...     0       0       0        0    0    0       0    2   0          0  \n",
      "1  ...     1       0       0        0    0    1       1    1   0          0  \n",
      "2  ...     0       0       0        0    1    0       0    1   0          0  \n",
      "3  ...     0       0       1        0    0    0       0    2   0          0  \n",
      "4  ...     0       0       0        1    0    0       0    0   0          0  \n",
      "5  ...     0       1       0        0    0    0       0    0   1          1  \n",
      "\n",
      "[6 rows x 44 columns]\n"
     ]
    }
   ],
   "source": [
    "print(bag_of_words)"
   ]
  },
  {
   "cell_type": "code",
   "execution_count": 14,
   "id": "56ab9130-aa8f-4596-95a7-ad5028d6e859",
   "metadata": {},
   "outputs": [],
   "source": [
    "from sklearn.feature_extraction.text import TfidfVectorizer"
   ]
  },
  {
   "cell_type": "code",
   "execution_count": 16,
   "id": "e5cee15e-28b8-485f-b563-343259104818",
   "metadata": {},
   "outputs": [],
   "source": [
    "tfidfvec = TfidfVectorizer()"
   ]
  },
  {
   "cell_type": "code",
   "execution_count": 18,
   "id": "177083b1-64e6-45a8-a11d-8ef3b8a3e2f4",
   "metadata": {},
   "outputs": [],
   "source": [
    "tfidfvec_fit = tfidfvec.fit_transform(data)"
   ]
  },
  {
   "cell_type": "code",
   "execution_count": 20,
   "id": "61d584f2-8bd1-4ac8-8a97-3565d5514f98",
   "metadata": {},
   "outputs": [],
   "source": [
    "tfidf_bag = pd.DataFrame(tfidfvec_fit.toarray(), columns = tfidfvec.get_feature_names_out())"
   ]
  },
  {
   "cell_type": "code",
   "execution_count": 22,
   "id": "6bafea93-d037-443f-895e-acc4daed1425",
   "metadata": {},
   "outputs": [
    {
     "name": "stdout",
     "output_type": "stream",
     "text": [
      "   adventure  afternoon       all    always        an       and        at  \\\n",
      "0   0.000000   0.000000  0.000000  0.000000  0.000000  0.000000  0.367413   \n",
      "1   0.000000   0.000000  0.000000  0.000000  0.000000  0.353016  0.000000   \n",
      "2   0.000000   0.000000  0.000000  0.000000  0.000000  0.000000  0.000000   \n",
      "3   0.000000   0.351793  0.351793  0.000000  0.000000  0.000000  0.000000   \n",
      "4   0.000000   0.000000  0.000000  0.000000  0.000000  0.000000  0.000000   \n",
      "5   0.333333   0.000000  0.000000  0.333333  0.333333  0.000000  0.000000   \n",
      "\n",
      "   backyard     baked    barked  ...      pink    places    played   quickly  \\\n",
      "0  0.000000  0.000000  0.367413  ...  0.000000  0.000000  0.000000  0.000000   \n",
      "1  0.000000  0.000000  0.000000  ...  0.353016  0.000000  0.000000  0.000000   \n",
      "2  0.000000  0.368806  0.000000  ...  0.000000  0.000000  0.000000  0.000000   \n",
      "3  0.351793  0.000000  0.000000  ...  0.000000  0.000000  0.351793  0.000000   \n",
      "4  0.000000  0.000000  0.000000  ...  0.000000  0.000000  0.000000  0.377964   \n",
      "5  0.000000  0.000000  0.000000  ...  0.000000  0.333333  0.000000  0.000000   \n",
      "\n",
      "        she       sky    sunset       the        to  traveling  \n",
      "0  0.000000  0.000000  0.000000  0.435942  0.000000   0.000000  \n",
      "1  0.000000  0.353016  0.353016  0.209430  0.000000   0.000000  \n",
      "2  0.368806  0.000000  0.000000  0.218798  0.000000   0.000000  \n",
      "3  0.000000  0.000000  0.000000  0.417409  0.000000   0.000000  \n",
      "4  0.000000  0.000000  0.000000  0.000000  0.000000   0.000000  \n",
      "5  0.000000  0.000000  0.000000  0.000000  0.333333   0.333333  \n",
      "\n",
      "[6 rows x 44 columns]\n"
     ]
    }
   ],
   "source": [
    "print(tfidf_bag)"
   ]
  },
  {
   "cell_type": "code",
   "execution_count": null,
   "id": "c982826e-0da9-4d08-a290-19334ec733b4",
   "metadata": {},
   "outputs": [],
   "source": []
  }
 ],
 "metadata": {
  "kernelspec": {
   "display_name": "Python 3 (ipykernel)",
   "language": "python",
   "name": "python3"
  },
  "language_info": {
   "codemirror_mode": {
    "name": "ipython",
    "version": 3
   },
   "file_extension": ".py",
   "mimetype": "text/x-python",
   "name": "python",
   "nbconvert_exporter": "python",
   "pygments_lexer": "ipython3",
   "version": "3.12.3"
  }
 },
 "nbformat": 4,
 "nbformat_minor": 5
}
